{
 "cells": [
  {
   "cell_type": "markdown",
   "metadata": {},
   "source": [
    "Task 1  \n",
    "How many unique customer_id from above list?"
   ]
  },
  {
   "cell_type": "code",
   "execution_count": 4,
   "metadata": {},
   "outputs": [
    {
     "name": "stdout",
     "output_type": "stream",
     "text": [
      "12\n"
     ]
    }
   ],
   "source": [
    "customer_id = ['B818', 'A461', 'A092', 'A082', 'B341', 'A005', 'A092', 'A461','B219', 'B904', 'A901', 'A083', 'B904', 'A092', 'B341', 'B821','B341', 'B821', 'B904', 'B818', 'A901', 'A083', 'B818', 'A082','B219', 'B219', 'A083', 'A901', 'A082', 'B341', 'B341', 'A083','A082', 'B219', 'B439', 'A461', 'A005', 'A901', 'B341', 'A082','A083', 'A461', 'A083', 'A901', 'A461', 'A083', 'A082', 'A083','B341', 'A901', 'A082', 'A461', 'B219', 'A083', 'B818', 'B821','A092', 'B341', 'A461', 'A092', 'A083', 'B821', 'A092']\n",
    "\n",
    "print(len(set(customer_id)))"
   ]
  },
  {
   "cell_type": "markdown",
   "metadata": {},
   "source": [
    "Task 2  \n",
    "Use indexing so you can get this output:  \n",
    "a. 16  \n",
    "b. [36, 49, 64, 81]  \n",
    "c. [100, 81, 64, 49, 36, 25, 16, 9, 4, 1]"
   ]
  },
  {
   "cell_type": "code",
   "execution_count": 48,
   "metadata": {},
   "outputs": [
    {
     "name": "stdout",
     "output_type": "stream",
     "text": [
      "a. 16\n",
      "b. [36, 49, 64, 81]\n",
      "b. [100, 81, 64, 49, 36, 25, 16, 9, 4, 1]\n"
     ]
    }
   ],
   "source": [
    "Data = [1, 4, 9, 16, 25, 36, 49, 64, 81, 100]\n",
    "\n",
    "# code untuk poin a\n",
    "print(f\"a. {Data[-7]}\")\n",
    "\n",
    "# code untuk poin b\n",
    "print(f\"b. {Data[-5:-1]}\")\n",
    "\n",
    "# code untuk poin c\n",
    "print(f\"b. {Data[-1::-1]}\")"
   ]
  },
  {
   "cell_type": "markdown",
   "metadata": {},
   "source": [
    "Task 3  \n",
    "What python command can be use to:  \n",
    "a.Get list of keys available in dictionary  \n",
    "b.Change 'Jawa Timur' value from 'Madiun'  to 'Surabaya'"
   ]
  },
  {
   "cell_type": "code",
   "execution_count": 59,
   "metadata": {},
   "outputs": [
    {
     "name": "stdout",
     "output_type": "stream",
     "text": [
      "a.Get list of keys available in dictionary = dict_keys(['Nanggroe Aceh Darussalam', 'Sumatera Selatan', 'Kalimantan Barat', 'Jawa Timur', 'Sulawesi Selatan', 'Maluku'])\n",
      "b.Change 'Jawa Timur' value from 'Madiun' to 'Surabaya' = Surabaya\n"
     ]
    }
   ],
   "source": [
    "provinsi = {'Nanggroe Aceh Darussalam': 'Aceh','Sumatera Selatan': 'Palembang','Kalimantan Barat': 'Pontianak','Jawa Timur': 'Madiun','Sulawesi Selatan': 'Makassar','Maluku': 'Ambon'}\n",
    "\n",
    "# code untuk poin a\n",
    "print(f\"a.Get list of keys available in dictionary = {provinsi.keys()}\")\n",
    "\n",
    "# code untuk poin b  \n",
    "provinsi['Jawa Timur'] = 'Surabaya' \n",
    "print(f\"b.Change 'Jawa Timur' value from 'Madiun' to 'Surabaya' = {provinsi['Jawa Timur']}\")"
   ]
  }
 ],
 "metadata": {
  "kernelspec": {
   "display_name": "base",
   "language": "python",
   "name": "python3"
  },
  "language_info": {
   "codemirror_mode": {
    "name": "ipython",
    "version": 3
   },
   "file_extension": ".py",
   "mimetype": "text/x-python",
   "name": "python",
   "nbconvert_exporter": "python",
   "pygments_lexer": "ipython3",
   "version": "3.11.7"
  }
 },
 "nbformat": 4,
 "nbformat_minor": 2
}
